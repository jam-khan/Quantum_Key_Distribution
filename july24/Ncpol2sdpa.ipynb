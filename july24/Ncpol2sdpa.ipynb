{
 "cells": [
  {
   "cell_type": "code",
   "execution_count": 14,
   "metadata": {},
   "outputs": [],
   "source": [
    "# Tutorial: Defining a Polynomial Optimization Problem of Commuting Variables\n",
    "\n",
    "from ncpol2sdpa import *\n",
    "\n",
    "n_vars = 2 # Number of variables\n",
    "level  = 2 # Requested level of relaxation\n",
    "# x = ge nerate_variables('x', n_vars)\n",
    "\n",
    "X = generate_operators('X', n_vars, hermitian=True)\n",
    "obj_nc = X[0] * X[1] + X[1] * X[0]\n",
    "inequalities_nc = [-X[1] ** 2 + X[1] + 0.5]\n",
    "substitutions_nc = {X[0]**2 : X[0]}\n",
    "sdp_nc = SdpRelaxation(X)\n",
    "sdp_nc.get_relaxation(level, objective=obj_nc, inequalities=inequalities_nc, substitutions=substitutions_nc)\n",
    "\n",
    "# sdp_nc.solve()"
   ]
  },
  {
   "cell_type": "code",
   "execution_count": 15,
   "metadata": {},
   "outputs": [
    {
     "ename": "ValueError",
     "evalue": "operands could not be broadcast together with remapped shapes [original->remapped]: (45,)  and requested shape (45,1)",
     "output_type": "error",
     "traceback": [
      "\u001b[0;31m---------------------------------------------------------------------------\u001b[0m",
      "\u001b[0;31mValueError\u001b[0m                                Traceback (most recent call last)",
      "Cell \u001b[0;32mIn[15], line 1\u001b[0m\n\u001b[0;32m----> 1\u001b[0m \u001b[43msdp_nc\u001b[49m\u001b[38;5;241;43m.\u001b[39;49m\u001b[43msolve\u001b[49m\u001b[43m(\u001b[49m\u001b[43m)\u001b[49m\n\u001b[1;32m      2\u001b[0m \u001b[38;5;66;03m# print(sdp.primal, sdp.dual, sdp.status)\u001b[39;00m\n",
      "File \u001b[0;32m/Library/Frameworks/Python.framework/Versions/3.9/lib/python3.9/site-packages/ncpol2sdpa/sdp_relaxation.py:112\u001b[0m, in \u001b[0;36mRelaxation.solve\u001b[0;34m(self, solver, solverparameters)\u001b[0m\n\u001b[1;32m    109\u001b[0m \u001b[39mif\u001b[39;00m \u001b[39mself\u001b[39m\u001b[39m.\u001b[39mF \u001b[39mis\u001b[39;00m \u001b[39mNone\u001b[39;00m:\n\u001b[1;32m    110\u001b[0m     \u001b[39mraise\u001b[39;00m \u001b[39mException\u001b[39;00m(\u001b[39m\"\u001b[39m\u001b[39mRelaxation is not generated yet. Call \u001b[39m\u001b[39m\"\u001b[39m\n\u001b[1;32m    111\u001b[0m                     \u001b[39m\"\u001b[39m\u001b[39m'\u001b[39m\u001b[39mSdpRelaxation.get_relaxation\u001b[39m\u001b[39m'\u001b[39m\u001b[39m first\u001b[39m\u001b[39m\"\u001b[39m)\n\u001b[0;32m--> 112\u001b[0m solve_sdp(\u001b[39mself\u001b[39;49m, solver, solverparameters)\n",
      "File \u001b[0;32m/Library/Frameworks/Python.framework/Versions/3.9/lib/python3.9/site-packages/ncpol2sdpa/solver_common.py:113\u001b[0m, in \u001b[0;36msolve_sdp\u001b[0;34m(sdp, solver, solverparameters)\u001b[0m\n\u001b[1;32m    109\u001b[0m     primal, dual, x_mat, y_mat, status \u001b[39m=\u001b[39m \\\n\u001b[1;32m    110\u001b[0m       solve_with_sdpa(sdp, solverparameters)\n\u001b[1;32m    111\u001b[0m \u001b[39melif\u001b[39;00m solver \u001b[39m==\u001b[39m \u001b[39m\"\u001b[39m\u001b[39mcvxpy\u001b[39m\u001b[39m\"\u001b[39m:\n\u001b[1;32m    112\u001b[0m     primal, dual, x_mat, y_mat, status \u001b[39m=\u001b[39m \\\n\u001b[0;32m--> 113\u001b[0m       solve_with_cvxpy(sdp, solverparameters)\n\u001b[1;32m    114\u001b[0m \u001b[39melif\u001b[39;00m solver \u001b[39m==\u001b[39m \u001b[39m\"\u001b[39m\u001b[39mscs\u001b[39m\u001b[39m\"\u001b[39m:\n\u001b[1;32m    115\u001b[0m     \u001b[39mif\u001b[39;00m solverparameters \u001b[39mis\u001b[39;00m \u001b[39mNone\u001b[39;00m:\n",
      "File \u001b[0;32m/Library/Frameworks/Python.framework/Versions/3.9/lib/python3.9/site-packages/ncpol2sdpa/cvxpy_utils.py:39\u001b[0m, in \u001b[0;36msolve_with_cvxpy\u001b[0;34m(sdp, solverparameters)\u001b[0m\n\u001b[1;32m     37\u001b[0m status \u001b[39m=\u001b[39m \u001b[39m\"\u001b[39m\u001b[39moptimal\u001b[39m\u001b[39m\"\u001b[39m\n\u001b[1;32m     38\u001b[0m x_pre \u001b[39m=\u001b[39m sdp\u001b[39m.\u001b[39mF[:, \u001b[39m1\u001b[39m:sdp\u001b[39m.\u001b[39mn_vars\u001b[39m+\u001b[39m\u001b[39m1\u001b[39m]\u001b[39m.\u001b[39mdot(problem\u001b[39m.\u001b[39mvariables()[\u001b[39m0\u001b[39m]\u001b[39m.\u001b[39mvalue)\n\u001b[0;32m---> 39\u001b[0m x_pre \u001b[39m+\u001b[39m\u001b[39m=\u001b[39m sdp\u001b[39m.\u001b[39mF[:, \u001b[39m0\u001b[39m]\n\u001b[1;32m     40\u001b[0m row_offsets \u001b[39m=\u001b[39m [\u001b[39m0\u001b[39m]\n\u001b[1;32m     41\u001b[0m cumulative_sum \u001b[39m=\u001b[39m \u001b[39m0\u001b[39m\n",
      "File \u001b[0;32m/Library/Frameworks/Python.framework/Versions/3.9/lib/python3.9/site-packages/scipy/sparse/_base.py:538\u001b[0m, in \u001b[0;36m_spbase.__radd__\u001b[0;34m(self, other)\u001b[0m\n\u001b[1;32m    537\u001b[0m \u001b[39mdef\u001b[39;00m \u001b[39m__radd__\u001b[39m(\u001b[39mself\u001b[39m,other):  \u001b[39m# other + self\u001b[39;00m\n\u001b[0;32m--> 538\u001b[0m     \u001b[39mreturn\u001b[39;00m \u001b[39mself\u001b[39;49m\u001b[39m.\u001b[39;49m\u001b[39m__add__\u001b[39;49m(other)\n",
      "File \u001b[0;32m/Library/Frameworks/Python.framework/Versions/3.9/lib/python3.9/site-packages/scipy/sparse/_base.py:532\u001b[0m, in \u001b[0;36m_spbase.__add__\u001b[0;34m(self, other)\u001b[0m\n\u001b[1;32m    530\u001b[0m     \u001b[39mreturn\u001b[39;00m \u001b[39mself\u001b[39m\u001b[39m.\u001b[39m_add_sparse(other)\n\u001b[1;32m    531\u001b[0m \u001b[39melif\u001b[39;00m isdense(other):\n\u001b[0;32m--> 532\u001b[0m     other \u001b[39m=\u001b[39m np\u001b[39m.\u001b[39;49mbroadcast_to(other, \u001b[39mself\u001b[39;49m\u001b[39m.\u001b[39;49mshape)\n\u001b[1;32m    533\u001b[0m     \u001b[39mreturn\u001b[39;00m \u001b[39mself\u001b[39m\u001b[39m.\u001b[39m_add_dense(other)\n\u001b[1;32m    534\u001b[0m \u001b[39melse\u001b[39;00m:\n",
      "File \u001b[0;32m<__array_function__ internals>:200\u001b[0m, in \u001b[0;36mbroadcast_to\u001b[0;34m(*args, **kwargs)\u001b[0m\n",
      "File \u001b[0;32m/Library/Frameworks/Python.framework/Versions/3.9/lib/python3.9/site-packages/numpy/lib/stride_tricks.py:413\u001b[0m, in \u001b[0;36mbroadcast_to\u001b[0;34m(array, shape, subok)\u001b[0m\n\u001b[1;32m    367\u001b[0m \u001b[39m@array_function_dispatch\u001b[39m(_broadcast_to_dispatcher, module\u001b[39m=\u001b[39m\u001b[39m'\u001b[39m\u001b[39mnumpy\u001b[39m\u001b[39m'\u001b[39m)\n\u001b[1;32m    368\u001b[0m \u001b[39mdef\u001b[39;00m \u001b[39mbroadcast_to\u001b[39m(array, shape, subok\u001b[39m=\u001b[39m\u001b[39mFalse\u001b[39;00m):\n\u001b[1;32m    369\u001b[0m \u001b[39m    \u001b[39m\u001b[39m\"\"\"Broadcast an array to a new shape.\u001b[39;00m\n\u001b[1;32m    370\u001b[0m \n\u001b[1;32m    371\u001b[0m \u001b[39m    Parameters\u001b[39;00m\n\u001b[0;32m   (...)\u001b[0m\n\u001b[1;32m    411\u001b[0m \u001b[39m           [1, 2, 3]])\u001b[39;00m\n\u001b[1;32m    412\u001b[0m \u001b[39m    \"\"\"\u001b[39;00m\n\u001b[0;32m--> 413\u001b[0m     \u001b[39mreturn\u001b[39;00m _broadcast_to(array, shape, subok\u001b[39m=\u001b[39;49msubok, readonly\u001b[39m=\u001b[39;49m\u001b[39mTrue\u001b[39;49;00m)\n",
      "File \u001b[0;32m/Library/Frameworks/Python.framework/Versions/3.9/lib/python3.9/site-packages/numpy/lib/stride_tricks.py:349\u001b[0m, in \u001b[0;36m_broadcast_to\u001b[0;34m(array, shape, subok, readonly)\u001b[0m\n\u001b[1;32m    346\u001b[0m     \u001b[39mraise\u001b[39;00m \u001b[39mValueError\u001b[39;00m(\u001b[39m'\u001b[39m\u001b[39mall elements of broadcast shape must be non-\u001b[39m\u001b[39m'\u001b[39m\n\u001b[1;32m    347\u001b[0m                      \u001b[39m'\u001b[39m\u001b[39mnegative\u001b[39m\u001b[39m'\u001b[39m)\n\u001b[1;32m    348\u001b[0m extras \u001b[39m=\u001b[39m []\n\u001b[0;32m--> 349\u001b[0m it \u001b[39m=\u001b[39m np\u001b[39m.\u001b[39;49mnditer(\n\u001b[1;32m    350\u001b[0m     (array,), flags\u001b[39m=\u001b[39;49m[\u001b[39m'\u001b[39;49m\u001b[39mmulti_index\u001b[39;49m\u001b[39m'\u001b[39;49m, \u001b[39m'\u001b[39;49m\u001b[39mrefs_ok\u001b[39;49m\u001b[39m'\u001b[39;49m, \u001b[39m'\u001b[39;49m\u001b[39mzerosize_ok\u001b[39;49m\u001b[39m'\u001b[39;49m] \u001b[39m+\u001b[39;49m extras,\n\u001b[1;32m    351\u001b[0m     op_flags\u001b[39m=\u001b[39;49m[\u001b[39m'\u001b[39;49m\u001b[39mreadonly\u001b[39;49m\u001b[39m'\u001b[39;49m], itershape\u001b[39m=\u001b[39;49mshape, order\u001b[39m=\u001b[39;49m\u001b[39m'\u001b[39;49m\u001b[39mC\u001b[39;49m\u001b[39m'\u001b[39;49m)\n\u001b[1;32m    352\u001b[0m \u001b[39mwith\u001b[39;00m it:\n\u001b[1;32m    353\u001b[0m     \u001b[39m# never really has writebackifcopy semantics\u001b[39;00m\n\u001b[1;32m    354\u001b[0m     broadcast \u001b[39m=\u001b[39m it\u001b[39m.\u001b[39mitviews[\u001b[39m0\u001b[39m]\n",
      "\u001b[0;31mValueError\u001b[0m: operands could not be broadcast together with remapped shapes [original->remapped]: (45,)  and requested shape (45,1)"
     ]
    }
   ],
   "source": [
    "sdp_nc.solve()\n",
    "# print(sdp.primal, sdp.dual, sdp.status)\n"
   ]
  }
 ],
 "metadata": {
  "kernelspec": {
   "display_name": "Python 3.9.5 64-bit",
   "language": "python",
   "name": "python3"
  },
  "language_info": {
   "codemirror_mode": {
    "name": "ipython",
    "version": 3
   },
   "file_extension": ".py",
   "mimetype": "text/x-python",
   "name": "python",
   "nbconvert_exporter": "python",
   "pygments_lexer": "ipython3",
   "version": "3.9.5"
  },
  "orig_nbformat": 4,
  "vscode": {
   "interpreter": {
    "hash": "aee8b7b246df8f9039afb4144a1f6fd8d2ca17a180786b69acc140d282b71a49"
   }
  }
 },
 "nbformat": 4,
 "nbformat_minor": 2
}
